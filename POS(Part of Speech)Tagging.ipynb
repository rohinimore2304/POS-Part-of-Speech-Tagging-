{
 "cells": [
  {
   "cell_type": "markdown",
   "id": "cb8c5501-5df9-4243-83db-28110de56c36",
   "metadata": {},
   "source": [
    "# POS(Part of Speech) Tagging"
   ]
  },
  {
   "cell_type": "markdown",
   "id": "0a42907a-b955-45d2-b126-9c871bbbd265",
   "metadata": {},
   "source": [
    "# Here we install spacy library"
   ]
  },
  {
   "cell_type": "code",
   "execution_count": 2,
   "id": "9559061b-6acf-49dc-a45c-a9957d27afda",
   "metadata": {},
   "outputs": [
    {
     "name": "stdout",
     "output_type": "stream",
     "text": [
      "Collecting spacy\n",
      "  Downloading spacy-3.8.7-cp313-cp313-win_amd64.whl.metadata (28 kB)\n",
      "Collecting spacy-legacy<3.1.0,>=3.0.11 (from spacy)\n",
      "  Downloading spacy_legacy-3.0.12-py2.py3-none-any.whl.metadata (2.8 kB)\n",
      "Collecting spacy-loggers<2.0.0,>=1.0.0 (from spacy)\n",
      "  Downloading spacy_loggers-1.0.5-py3-none-any.whl.metadata (23 kB)\n",
      "Collecting murmurhash<1.1.0,>=0.28.0 (from spacy)\n",
      "  Downloading murmurhash-1.0.13-cp313-cp313-win_amd64.whl.metadata (2.2 kB)\n",
      "Collecting cymem<2.1.0,>=2.0.2 (from spacy)\n",
      "  Downloading cymem-2.0.11-cp313-cp313-win_amd64.whl.metadata (8.8 kB)\n",
      "Collecting preshed<3.1.0,>=3.0.2 (from spacy)\n",
      "  Downloading preshed-3.0.10-cp313-cp313-win_amd64.whl.metadata (2.5 kB)\n",
      "Collecting thinc<8.4.0,>=8.3.4 (from spacy)\n",
      "  Downloading thinc-8.3.6-cp313-cp313-win_amd64.whl.metadata (15 kB)\n",
      "Collecting wasabi<1.2.0,>=0.9.1 (from spacy)\n",
      "  Downloading wasabi-1.1.3-py3-none-any.whl.metadata (28 kB)\n",
      "Collecting srsly<3.0.0,>=2.4.3 (from spacy)\n",
      "  Downloading srsly-2.5.1-cp313-cp313-win_amd64.whl.metadata (20 kB)\n",
      "Collecting catalogue<2.1.0,>=2.0.6 (from spacy)\n",
      "  Downloading catalogue-2.0.10-py3-none-any.whl.metadata (14 kB)\n",
      "Collecting weasel<0.5.0,>=0.1.0 (from spacy)\n",
      "  Downloading weasel-0.4.1-py3-none-any.whl.metadata (4.6 kB)\n",
      "Requirement already satisfied: typer<1.0.0,>=0.3.0 in c:\\users\\admin\\anaconda3\\lib\\site-packages (from spacy) (0.9.0)\n",
      "Requirement already satisfied: tqdm<5.0.0,>=4.38.0 in c:\\users\\admin\\anaconda3\\lib\\site-packages (from spacy) (4.67.1)\n",
      "Requirement already satisfied: numpy>=1.19.0 in c:\\users\\admin\\anaconda3\\lib\\site-packages (from spacy) (2.1.3)\n",
      "Requirement already satisfied: requests<3.0.0,>=2.13.0 in c:\\users\\admin\\anaconda3\\lib\\site-packages (from spacy) (2.32.3)\n",
      "Requirement already satisfied: pydantic!=1.8,!=1.8.1,<3.0.0,>=1.7.4 in c:\\users\\admin\\anaconda3\\lib\\site-packages (from spacy) (2.10.3)\n",
      "Requirement already satisfied: jinja2 in c:\\users\\admin\\anaconda3\\lib\\site-packages (from spacy) (3.1.6)\n",
      "Requirement already satisfied: setuptools in c:\\users\\admin\\anaconda3\\lib\\site-packages (from spacy) (72.1.0)\n",
      "Requirement already satisfied: packaging>=20.0 in c:\\users\\admin\\anaconda3\\lib\\site-packages (from spacy) (24.2)\n",
      "Collecting langcodes<4.0.0,>=3.2.0 (from spacy)\n",
      "  Downloading langcodes-3.5.0-py3-none-any.whl.metadata (29 kB)\n",
      "Collecting language-data>=1.2 (from langcodes<4.0.0,>=3.2.0->spacy)\n",
      "  Downloading language_data-1.3.0-py3-none-any.whl.metadata (4.3 kB)\n",
      "Requirement already satisfied: annotated-types>=0.6.0 in c:\\users\\admin\\anaconda3\\lib\\site-packages (from pydantic!=1.8,!=1.8.1,<3.0.0,>=1.7.4->spacy) (0.6.0)\n",
      "Requirement already satisfied: pydantic-core==2.27.1 in c:\\users\\admin\\anaconda3\\lib\\site-packages (from pydantic!=1.8,!=1.8.1,<3.0.0,>=1.7.4->spacy) (2.27.1)\n",
      "Requirement already satisfied: typing-extensions>=4.12.2 in c:\\users\\admin\\anaconda3\\lib\\site-packages (from pydantic!=1.8,!=1.8.1,<3.0.0,>=1.7.4->spacy) (4.12.2)\n",
      "Requirement already satisfied: charset-normalizer<4,>=2 in c:\\users\\admin\\anaconda3\\lib\\site-packages (from requests<3.0.0,>=2.13.0->spacy) (3.3.2)\n",
      "Requirement already satisfied: idna<4,>=2.5 in c:\\users\\admin\\anaconda3\\lib\\site-packages (from requests<3.0.0,>=2.13.0->spacy) (3.7)\n",
      "Requirement already satisfied: urllib3<3,>=1.21.1 in c:\\users\\admin\\anaconda3\\lib\\site-packages (from requests<3.0.0,>=2.13.0->spacy) (2.3.0)\n",
      "Requirement already satisfied: certifi>=2017.4.17 in c:\\users\\admin\\anaconda3\\lib\\site-packages (from requests<3.0.0,>=2.13.0->spacy) (2025.4.26)\n",
      "Collecting blis<1.4.0,>=1.3.0 (from thinc<8.4.0,>=8.3.4->spacy)\n",
      "  Downloading blis-1.3.0-cp313-cp313-win_amd64.whl.metadata (7.6 kB)\n",
      "Collecting confection<1.0.0,>=0.0.1 (from thinc<8.4.0,>=8.3.4->spacy)\n",
      "  Downloading confection-0.1.5-py3-none-any.whl.metadata (19 kB)\n",
      "Requirement already satisfied: colorama in c:\\users\\admin\\anaconda3\\lib\\site-packages (from tqdm<5.0.0,>=4.38.0->spacy) (0.4.6)\n",
      "Requirement already satisfied: click<9.0.0,>=7.1.1 in c:\\users\\admin\\anaconda3\\lib\\site-packages (from typer<1.0.0,>=0.3.0->spacy) (8.1.8)\n",
      "Collecting cloudpathlib<1.0.0,>=0.7.0 (from weasel<0.5.0,>=0.1.0->spacy)\n",
      "  Downloading cloudpathlib-0.21.1-py3-none-any.whl.metadata (14 kB)\n",
      "Collecting smart-open<8.0.0,>=5.2.1 (from weasel<0.5.0,>=0.1.0->spacy)\n",
      "  Downloading smart_open-7.1.0-py3-none-any.whl.metadata (24 kB)\n",
      "Requirement already satisfied: wrapt in c:\\users\\admin\\anaconda3\\lib\\site-packages (from smart-open<8.0.0,>=5.2.1->weasel<0.5.0,>=0.1.0->spacy) (1.17.0)\n",
      "Collecting marisa-trie>=1.1.0 (from language-data>=1.2->langcodes<4.0.0,>=3.2.0->spacy)\n",
      "  Downloading marisa_trie-1.2.1-cp313-cp313-win_amd64.whl.metadata (9.3 kB)\n",
      "Requirement already satisfied: MarkupSafe>=2.0 in c:\\users\\admin\\anaconda3\\lib\\site-packages (from jinja2->spacy) (3.0.2)\n",
      "Downloading spacy-3.8.7-cp313-cp313-win_amd64.whl (13.9 MB)\n",
      "   ---------------------------------------- 0.0/13.9 MB ? eta -:--:--\n",
      "   ---------------------------------------- 0.0/13.9 MB ? eta -:--:--\n",
      "   ---------------------------------------- 0.0/13.9 MB ? eta -:--:--\n",
      "    --------------------------------------- 0.3/13.9 MB ? eta -:--:--\n",
      "    --------------------------------------- 0.3/13.9 MB ? eta -:--:--\n",
      "    --------------------------------------- 0.3/13.9 MB ? eta -:--:--\n",
      "    --------------------------------------- 0.3/13.9 MB ? eta -:--:--\n",
      "   - -------------------------------------- 0.5/13.9 MB 280.0 kB/s eta 0:00:48\n",
      "   - -------------------------------------- 0.5/13.9 MB 280.0 kB/s eta 0:00:48\n",
      "   - -------------------------------------- 0.5/13.9 MB 280.0 kB/s eta 0:00:48\n",
      "   -- ------------------------------------- 0.8/13.9 MB 326.2 kB/s eta 0:00:41\n",
      "   -- ------------------------------------- 0.8/13.9 MB 326.2 kB/s eta 0:00:41\n",
      "   -- ------------------------------------- 0.8/13.9 MB 326.2 kB/s eta 0:00:41\n",
      "   --- ------------------------------------ 1.0/13.9 MB 354.6 kB/s eta 0:00:37\n",
      "   --- ------------------------------------ 1.0/13.9 MB 354.6 kB/s eta 0:00:37\n",
      "   --- ------------------------------------ 1.0/13.9 MB 354.6 kB/s eta 0:00:37\n",
      "   --- ------------------------------------ 1.3/13.9 MB 384.0 kB/s eta 0:00:33\n",
      "   --- ------------------------------------ 1.3/13.9 MB 384.0 kB/s eta 0:00:33\n",
      "   ---- ----------------------------------- 1.6/13.9 MB 406.0 kB/s eta 0:00:31\n",
      "   ---- ----------------------------------- 1.6/13.9 MB 406.0 kB/s eta 0:00:31\n",
      "   ---- ----------------------------------- 1.6/13.9 MB 406.0 kB/s eta 0:00:31\n",
      "   ----- ---------------------------------- 1.8/13.9 MB 407.4 kB/s eta 0:00:30\n",
      "   ----- ---------------------------------- 1.8/13.9 MB 407.4 kB/s eta 0:00:30\n",
      "   ----- ---------------------------------- 1.8/13.9 MB 407.4 kB/s eta 0:00:30\n",
      "   ------ --------------------------------- 2.1/13.9 MB 407.5 kB/s eta 0:00:29\n",
      "   ------ --------------------------------- 2.1/13.9 MB 407.5 kB/s eta 0:00:29\n",
      "   ------ --------------------------------- 2.4/13.9 MB 417.9 kB/s eta 0:00:28\n",
      "   ------ --------------------------------- 2.4/13.9 MB 417.9 kB/s eta 0:00:28\n",
      "   ------ --------------------------------- 2.4/13.9 MB 417.9 kB/s eta 0:00:28\n",
      "   ------- -------------------------------- 2.6/13.9 MB 415.6 kB/s eta 0:00:28\n",
      "   ------- -------------------------------- 2.6/13.9 MB 415.6 kB/s eta 0:00:28\n",
      "   ------- -------------------------------- 2.6/13.9 MB 415.6 kB/s eta 0:00:28\n",
      "   -------- ------------------------------- 2.9/13.9 MB 416.1 kB/s eta 0:00:27\n",
      "   -------- ------------------------------- 2.9/13.9 MB 416.1 kB/s eta 0:00:27\n",
      "   -------- ------------------------------- 2.9/13.9 MB 416.1 kB/s eta 0:00:27\n",
      "   --------- ------------------------------ 3.1/13.9 MB 423.7 kB/s eta 0:00:26\n",
      "   --------- ------------------------------ 3.1/13.9 MB 423.7 kB/s eta 0:00:26\n",
      "   --------- ------------------------------ 3.1/13.9 MB 423.7 kB/s eta 0:00:26\n",
      "   --------- ------------------------------ 3.4/13.9 MB 417.4 kB/s eta 0:00:26\n",
      "   --------- ------------------------------ 3.4/13.9 MB 417.4 kB/s eta 0:00:26\n",
      "   --------- ------------------------------ 3.4/13.9 MB 417.4 kB/s eta 0:00:26\n",
      "   --------- ------------------------------ 3.4/13.9 MB 417.4 kB/s eta 0:00:26\n",
      "   ---------- ----------------------------- 3.7/13.9 MB 410.1 kB/s eta 0:00:25\n",
      "   ---------- ----------------------------- 3.7/13.9 MB 410.1 kB/s eta 0:00:25\n",
      "   ---------- ----------------------------- 3.7/13.9 MB 410.1 kB/s eta 0:00:25\n",
      "   ----------- ---------------------------- 3.9/13.9 MB 408.9 kB/s eta 0:00:25\n",
      "   ----------- ---------------------------- 3.9/13.9 MB 408.9 kB/s eta 0:00:25\n",
      "   ----------- ---------------------------- 3.9/13.9 MB 408.9 kB/s eta 0:00:25\n",
      "   ----------- ---------------------------- 3.9/13.9 MB 408.9 kB/s eta 0:00:25\n",
      "   ------------ --------------------------- 4.2/13.9 MB 396.7 kB/s eta 0:00:25\n",
      "   ------------ --------------------------- 4.2/13.9 MB 396.7 kB/s eta 0:00:25\n",
      "   ------------ --------------------------- 4.2/13.9 MB 396.7 kB/s eta 0:00:25\n",
      "   ------------ --------------------------- 4.2/13.9 MB 396.7 kB/s eta 0:00:25\n",
      "   ------------ --------------------------- 4.5/13.9 MB 394.0 kB/s eta 0:00:24\n",
      "   ------------ --------------------------- 4.5/13.9 MB 394.0 kB/s eta 0:00:24\n",
      "   ------------ --------------------------- 4.5/13.9 MB 394.0 kB/s eta 0:00:24\n",
      "   ------------ --------------------------- 4.5/13.9 MB 394.0 kB/s eta 0:00:24\n",
      "   ------------- -------------------------- 4.7/13.9 MB 381.8 kB/s eta 0:00:25\n",
      "   ------------- -------------------------- 4.7/13.9 MB 381.8 kB/s eta 0:00:25\n",
      "   ------------- -------------------------- 4.7/13.9 MB 381.8 kB/s eta 0:00:25\n",
      "   ------------- -------------------------- 4.7/13.9 MB 381.8 kB/s eta 0:00:25\n",
      "   ------------- -------------------------- 4.7/13.9 MB 381.8 kB/s eta 0:00:25\n",
      "   -------------- ------------------------- 5.0/13.9 MB 372.8 kB/s eta 0:00:24\n",
      "   -------------- ------------------------- 5.0/13.9 MB 372.8 kB/s eta 0:00:24\n",
      "   -------------- ------------------------- 5.0/13.9 MB 372.8 kB/s eta 0:00:24\n",
      "   -------------- ------------------------- 5.0/13.9 MB 372.8 kB/s eta 0:00:24\n",
      "   -------------- ------------------------- 5.0/13.9 MB 372.8 kB/s eta 0:00:24\n",
      "   --------------- ------------------------ 5.2/13.9 MB 361.7 kB/s eta 0:00:24\n",
      "   --------------- ------------------------ 5.2/13.9 MB 361.7 kB/s eta 0:00:24\n",
      "   --------------- ------------------------ 5.2/13.9 MB 361.7 kB/s eta 0:00:24\n",
      "   --------------- ------------------------ 5.2/13.9 MB 361.7 kB/s eta 0:00:24\n",
      "   --------------- ------------------------ 5.2/13.9 MB 361.7 kB/s eta 0:00:24\n",
      "   --------------- ------------------------ 5.2/13.9 MB 361.7 kB/s eta 0:00:24\n",
      "   --------------- ------------------------ 5.2/13.9 MB 361.7 kB/s eta 0:00:24\n",
      "   --------------- ------------------------ 5.5/13.9 MB 347.2 kB/s eta 0:00:25\n",
      "   --------------- ------------------------ 5.5/13.9 MB 347.2 kB/s eta 0:00:25\n",
      "   --------------- ------------------------ 5.5/13.9 MB 347.2 kB/s eta 0:00:25\n",
      "   --------------- ------------------------ 5.5/13.9 MB 347.2 kB/s eta 0:00:25\n",
      "   ---------------- ----------------------- 5.8/13.9 MB 342.3 kB/s eta 0:00:24\n",
      "   ---------------- ----------------------- 5.8/13.9 MB 342.3 kB/s eta 0:00:24\n",
      "   ---------------- ----------------------- 5.8/13.9 MB 342.3 kB/s eta 0:00:24\n",
      "   ---------------- ----------------------- 5.8/13.9 MB 342.3 kB/s eta 0:00:24\n",
      "   ---------------- ----------------------- 5.8/13.9 MB 342.3 kB/s eta 0:00:24\n",
      "   ---------------- ----------------------- 5.8/13.9 MB 342.3 kB/s eta 0:00:24\n",
      "   ---------------- ----------------------- 5.8/13.9 MB 342.3 kB/s eta 0:00:24\n",
      "   ----------------- ---------------------- 6.0/13.9 MB 329.4 kB/s eta 0:00:24\n",
      "   ----------------- ---------------------- 6.0/13.9 MB 329.4 kB/s eta 0:00:24\n",
      "   ----------------- ---------------------- 6.0/13.9 MB 329.4 kB/s eta 0:00:24\n",
      "   ----------------- ---------------------- 6.0/13.9 MB 329.4 kB/s eta 0:00:24\n",
      "   ----------------- ---------------------- 6.0/13.9 MB 329.4 kB/s eta 0:00:24\n",
      "   ----------------- ---------------------- 6.0/13.9 MB 329.4 kB/s eta 0:00:24\n",
      "   ------------------ --------------------- 6.3/13.9 MB 320.7 kB/s eta 0:00:24\n",
      "   ------------------ --------------------- 6.3/13.9 MB 320.7 kB/s eta 0:00:24\n",
      "   ------------------ --------------------- 6.3/13.9 MB 320.7 kB/s eta 0:00:24\n",
      "   ------------------ --------------------- 6.3/13.9 MB 320.7 kB/s eta 0:00:24\n",
      "   ------------------ --------------------- 6.6/13.9 MB 320.9 kB/s eta 0:00:23\n",
      "   ------------------ --------------------- 6.6/13.9 MB 320.9 kB/s eta 0:00:23\n",
      "   ------------------ --------------------- 6.6/13.9 MB 320.9 kB/s eta 0:00:23\n",
      "   ------------------ --------------------- 6.6/13.9 MB 320.9 kB/s eta 0:00:23\n",
      "   ------------------ --------------------- 6.6/13.9 MB 320.9 kB/s eta 0:00:23\n",
      "   ------------------- -------------------- 6.8/13.9 MB 316.6 kB/s eta 0:00:23\n",
      "   ------------------- -------------------- 6.8/13.9 MB 316.6 kB/s eta 0:00:23\n",
      "   ------------------- -------------------- 6.8/13.9 MB 316.6 kB/s eta 0:00:23\n",
      "   ------------------- -------------------- 6.8/13.9 MB 316.6 kB/s eta 0:00:23\n",
      "   ------------------- -------------------- 6.8/13.9 MB 316.6 kB/s eta 0:00:23\n",
      "   ------------------- -------------------- 6.8/13.9 MB 316.6 kB/s eta 0:00:23\n",
      "   -------------------- ------------------- 7.1/13.9 MB 311.1 kB/s eta 0:00:22\n",
      "   -------------------- ------------------- 7.1/13.9 MB 311.1 kB/s eta 0:00:22\n",
      "   -------------------- ------------------- 7.1/13.9 MB 311.1 kB/s eta 0:00:22\n",
      "   --------------------- ------------------ 7.3/13.9 MB 311.4 kB/s eta 0:00:22\n",
      "   --------------------- ------------------ 7.3/13.9 MB 311.4 kB/s eta 0:00:22\n",
      "   --------------------- ------------------ 7.3/13.9 MB 311.4 kB/s eta 0:00:22\n",
      "   --------------------- ------------------ 7.6/13.9 MB 314.1 kB/s eta 0:00:21\n",
      "   --------------------- ------------------ 7.6/13.9 MB 314.1 kB/s eta 0:00:21\n",
      "   --------------------- ------------------ 7.6/13.9 MB 314.1 kB/s eta 0:00:21\n",
      "   ---------------------- ----------------- 7.9/13.9 MB 317.7 kB/s eta 0:00:20\n",
      "   ---------------------- ----------------- 7.9/13.9 MB 317.7 kB/s eta 0:00:20\n",
      "   ----------------------- ---------------- 8.1/13.9 MB 323.3 kB/s eta 0:00:18\n",
      "   ----------------------- ---------------- 8.1/13.9 MB 323.3 kB/s eta 0:00:18\n",
      "   ------------------------ --------------- 8.4/13.9 MB 329.4 kB/s eta 0:00:17\n",
      "   ------------------------ --------------- 8.7/13.9 MB 334.7 kB/s eta 0:00:16\n",
      "   ------------------------ --------------- 8.7/13.9 MB 334.7 kB/s eta 0:00:16\n",
      "   ------------------------- -------------- 8.9/13.9 MB 341.6 kB/s eta 0:00:15\n",
      "   -------------------------- ------------- 9.2/13.9 MB 346.6 kB/s eta 0:00:14\n",
      "   --------------------------- ------------ 9.4/13.9 MB 354.6 kB/s eta 0:00:13\n",
      "   --------------------------- ------------ 9.7/13.9 MB 361.8 kB/s eta 0:00:12\n",
      "   ---------------------------- ----------- 10.0/13.9 MB 369.5 kB/s eta 0:00:11\n",
      "   ------------------------------ --------- 10.5/13.9 MB 385.1 kB/s eta 0:00:09\n",
      "   ------------------------------ --------- 10.7/13.9 MB 392.3 kB/s eta 0:00:09\n",
      "   -------------------------------- ------- 11.3/13.9 MB 407.5 kB/s eta 0:00:07\n",
      "   --------------------------------- ------ 11.5/13.9 MB 415.1 kB/s eta 0:00:06\n",
      "   --------------------------------- ------ 11.8/13.9 MB 420.7 kB/s eta 0:00:06\n",
      "   ---------------------------------- ----- 12.1/13.9 MB 427.5 kB/s eta 0:00:05\n",
      "   ------------------------------------ --- 12.6/13.9 MB 442.6 kB/s eta 0:00:04\n",
      "   ------------------------------------- -- 13.1/13.9 MB 458.2 kB/s eta 0:00:02\n",
      "   ---------------------------------------  13.6/13.9 MB 473.1 kB/s eta 0:00:01\n",
      "   ---------------------------------------- 13.9/13.9 MB 480.3 kB/s eta 0:00:00\n",
      "Downloading catalogue-2.0.10-py3-none-any.whl (17 kB)\n",
      "Downloading cymem-2.0.11-cp313-cp313-win_amd64.whl (39 kB)\n",
      "Downloading langcodes-3.5.0-py3-none-any.whl (182 kB)\n",
      "Downloading murmurhash-1.0.13-cp313-cp313-win_amd64.whl (24 kB)\n",
      "Downloading preshed-3.0.10-cp313-cp313-win_amd64.whl (115 kB)\n",
      "Downloading spacy_legacy-3.0.12-py2.py3-none-any.whl (29 kB)\n",
      "Downloading spacy_loggers-1.0.5-py3-none-any.whl (22 kB)\n",
      "Downloading srsly-2.5.1-cp313-cp313-win_amd64.whl (630 kB)\n",
      "   ---------------------------------------- 0.0/630.6 kB ? eta -:--:--\n",
      "   ---------------- ----------------------- 262.1/630.6 kB ? eta -:--:--\n",
      "   ---------------------------------------- 630.6/630.6 kB 2.2 MB/s eta 0:00:00\n",
      "Downloading thinc-8.3.6-cp313-cp313-win_amd64.whl (1.7 MB)\n",
      "   ---------------------------------------- 0.0/1.7 MB ? eta -:--:--\n",
      "   ------ --------------------------------- 0.3/1.7 MB ? eta -:--:--\n",
      "   ------------ --------------------------- 0.5/1.7 MB 1.7 MB/s eta 0:00:01\n",
      "   ------------------------ --------------- 1.0/1.7 MB 1.8 MB/s eta 0:00:01\n",
      "   ------------------------------ --------- 1.3/1.7 MB 1.7 MB/s eta 0:00:01\n",
      "   ------------------------------ --------- 1.3/1.7 MB 1.7 MB/s eta 0:00:01\n",
      "   ---------------------------------------- 1.7/1.7 MB 1.6 MB/s eta 0:00:00\n",
      "Downloading blis-1.3.0-cp313-cp313-win_amd64.whl (6.3 MB)\n",
      "   ---------------------------------------- 0.0/6.3 MB ? eta -:--:--\n",
      "   - -------------------------------------- 0.3/6.3 MB ? eta -:--:--\n",
      "   ----- ---------------------------------- 0.8/6.3 MB 1.9 MB/s eta 0:00:03\n",
      "   -------- ------------------------------- 1.3/6.3 MB 2.3 MB/s eta 0:00:03\n",
      "   ---------- ----------------------------- 1.6/6.3 MB 2.4 MB/s eta 0:00:02\n",
      "   ------------- -------------------------- 2.1/6.3 MB 2.1 MB/s eta 0:00:02\n",
      "   ---------------- ----------------------- 2.6/6.3 MB 2.2 MB/s eta 0:00:02\n",
      "   --------------------- ------------------ 3.4/6.3 MB 2.3 MB/s eta 0:00:02\n",
      "   ----------------------- ---------------- 3.7/6.3 MB 2.3 MB/s eta 0:00:02\n",
      "   -------------------------- ------------- 4.2/6.3 MB 2.3 MB/s eta 0:00:01\n",
      "   ------------------------------- -------- 5.0/6.3 MB 2.3 MB/s eta 0:00:01\n",
      "   ----------------------------------- ---- 5.5/6.3 MB 2.4 MB/s eta 0:00:01\n",
      "   ---------------------------------------- 6.3/6.3 MB 2.4 MB/s eta 0:00:00\n",
      "Downloading confection-0.1.5-py3-none-any.whl (35 kB)\n",
      "Downloading wasabi-1.1.3-py3-none-any.whl (27 kB)\n",
      "Downloading weasel-0.4.1-py3-none-any.whl (50 kB)\n",
      "Downloading cloudpathlib-0.21.1-py3-none-any.whl (52 kB)\n",
      "Downloading smart_open-7.1.0-py3-none-any.whl (61 kB)\n",
      "Downloading language_data-1.3.0-py3-none-any.whl (5.4 MB)\n",
      "   ---------------------------------------- 0.0/5.4 MB ? eta -:--:--\n",
      "   --- ------------------------------------ 0.5/5.4 MB 2.7 MB/s eta 0:00:02\n",
      "   ------- -------------------------------- 1.0/5.4 MB 2.4 MB/s eta 0:00:02\n",
      "   --------- ------------------------------ 1.3/5.4 MB 2.5 MB/s eta 0:00:02\n",
      "   ------------- -------------------------- 1.8/5.4 MB 2.1 MB/s eta 0:00:02\n",
      "   --------------- ------------------------ 2.1/5.4 MB 2.0 MB/s eta 0:00:02\n",
      "   ----------------- ---------------------- 2.4/5.4 MB 1.8 MB/s eta 0:00:02\n",
      "   ----------------- ---------------------- 2.4/5.4 MB 1.8 MB/s eta 0:00:02\n",
      "   --------------------- ------------------ 2.9/5.4 MB 1.6 MB/s eta 0:00:02\n",
      "   ----------------------- ---------------- 3.1/5.4 MB 1.7 MB/s eta 0:00:02\n",
      "   ------------------------- -------------- 3.4/5.4 MB 1.7 MB/s eta 0:00:02\n",
      "   ----------------------------- ---------- 3.9/5.4 MB 1.6 MB/s eta 0:00:01\n",
      "   ------------------------------- -------- 4.2/5.4 MB 1.6 MB/s eta 0:00:01\n",
      "   ----------------------------------- ---- 4.7/5.4 MB 1.7 MB/s eta 0:00:01\n",
      "   -------------------------------------- - 5.2/5.4 MB 1.7 MB/s eta 0:00:01\n",
      "   ---------------------------------------- 5.4/5.4 MB 1.7 MB/s eta 0:00:00\n",
      "Downloading marisa_trie-1.2.1-cp313-cp313-win_amd64.whl (149 kB)\n",
      "Installing collected packages: cymem, wasabi, spacy-loggers, spacy-legacy, smart-open, murmurhash, marisa-trie, cloudpathlib, catalogue, blis, srsly, preshed, language-data, langcodes, confection, weasel, thinc, spacy\n",
      "\n",
      "   -- -------------------------------------  1/18 [wasabi]\n",
      "   ---- -----------------------------------  2/18 [spacy-loggers]\n",
      "   ------ ---------------------------------  3/18 [spacy-legacy]\n",
      "   -------- -------------------------------  4/18 [smart-open]\n",
      "   ----------- ----------------------------  5/18 [murmurhash]\n",
      "   --------------- ------------------------  7/18 [cloudpathlib]\n",
      "   ----------------- ----------------------  8/18 [catalogue]\n",
      "   -------------------- -------------------  9/18 [blis]\n",
      "   -------------------- -------------------  9/18 [blis]\n",
      "   ---------------------- ----------------- 10/18 [srsly]\n",
      "   ---------------------- ----------------- 10/18 [srsly]\n",
      "   ---------------------- ----------------- 10/18 [srsly]\n",
      "   ---------------------- ----------------- 10/18 [srsly]\n",
      "   ---------------------- ----------------- 10/18 [srsly]\n",
      "   ---------------------- ----------------- 10/18 [srsly]\n",
      "   -------------------------- ------------- 12/18 [language-data]\n",
      "   -------------------------- ------------- 12/18 [language-data]\n",
      "   -------------------------- ------------- 12/18 [language-data]\n",
      "   -------------------------- ------------- 12/18 [language-data]\n",
      "   -------------------------- ------------- 12/18 [language-data]\n",
      "   -------------------------- ------------- 12/18 [language-data]\n",
      "   -------------------------- ------------- 12/18 [language-data]\n",
      "   -------------------------- ------------- 12/18 [language-data]\n",
      "   -------------------------- ------------- 12/18 [language-data]\n",
      "   ---------------------------- ----------- 13/18 [langcodes]\n",
      "   ------------------------------- -------- 14/18 [confection]\n",
      "   --------------------------------- ------ 15/18 [weasel]\n",
      "   --------------------------------- ------ 15/18 [weasel]\n",
      "   --------------------------------- ------ 15/18 [weasel]\n",
      "   ----------------------------------- ---- 16/18 [thinc]\n",
      "   ----------------------------------- ---- 16/18 [thinc]\n",
      "   ----------------------------------- ---- 16/18 [thinc]\n",
      "   ----------------------------------- ---- 16/18 [thinc]\n",
      "   ----------------------------------- ---- 16/18 [thinc]\n",
      "   ----------------------------------- ---- 16/18 [thinc]\n",
      "   ----------------------------------- ---- 16/18 [thinc]\n",
      "   ----------------------------------- ---- 16/18 [thinc]\n",
      "   ----------------------------------- ---- 16/18 [thinc]\n",
      "   ------------------------------------- -- 17/18 [spacy]\n",
      "   ------------------------------------- -- 17/18 [spacy]\n",
      "   ------------------------------------- -- 17/18 [spacy]\n",
      "   ------------------------------------- -- 17/18 [spacy]\n",
      "   ------------------------------------- -- 17/18 [spacy]\n",
      "   ------------------------------------- -- 17/18 [spacy]\n",
      "   ------------------------------------- -- 17/18 [spacy]\n",
      "   ------------------------------------- -- 17/18 [spacy]\n",
      "   ------------------------------------- -- 17/18 [spacy]\n",
      "   ------------------------------------- -- 17/18 [spacy]\n",
      "   ------------------------------------- -- 17/18 [spacy]\n",
      "   ------------------------------------- -- 17/18 [spacy]\n",
      "   ------------------------------------- -- 17/18 [spacy]\n",
      "   ------------------------------------- -- 17/18 [spacy]\n",
      "   ------------------------------------- -- 17/18 [spacy]\n",
      "   ------------------------------------- -- 17/18 [spacy]\n",
      "   ------------------------------------- -- 17/18 [spacy]\n",
      "   ------------------------------------- -- 17/18 [spacy]\n",
      "   ------------------------------------- -- 17/18 [spacy]\n",
      "   ------------------------------------- -- 17/18 [spacy]\n",
      "   ------------------------------------- -- 17/18 [spacy]\n",
      "   ------------------------------------- -- 17/18 [spacy]\n",
      "   ------------------------------------- -- 17/18 [spacy]\n",
      "   ------------------------------------- -- 17/18 [spacy]\n",
      "   ------------------------------------- -- 17/18 [spacy]\n",
      "   ------------------------------------- -- 17/18 [spacy]\n",
      "   ------------------------------------- -- 17/18 [spacy]\n",
      "   ------------------------------------- -- 17/18 [spacy]\n",
      "   ------------------------------------- -- 17/18 [spacy]\n",
      "   ------------------------------------- -- 17/18 [spacy]\n",
      "   ------------------------------------- -- 17/18 [spacy]\n",
      "   ------------------------------------- -- 17/18 [spacy]\n",
      "   ------------------------------------- -- 17/18 [spacy]\n",
      "   ------------------------------------- -- 17/18 [spacy]\n",
      "   ------------------------------------- -- 17/18 [spacy]\n",
      "   ------------------------------------- -- 17/18 [spacy]\n",
      "   ------------------------------------- -- 17/18 [spacy]\n",
      "   ------------------------------------- -- 17/18 [spacy]\n",
      "   ------------------------------------- -- 17/18 [spacy]\n",
      "   ------------------------------------- -- 17/18 [spacy]\n",
      "   ------------------------------------- -- 17/18 [spacy]\n",
      "   ------------------------------------- -- 17/18 [spacy]\n",
      "   ------------------------------------- -- 17/18 [spacy]\n",
      "   ------------------------------------- -- 17/18 [spacy]\n",
      "   ------------------------------------- -- 17/18 [spacy]\n",
      "   ------------------------------------- -- 17/18 [spacy]\n",
      "   ------------------------------------- -- 17/18 [spacy]\n",
      "   ------------------------------------- -- 17/18 [spacy]\n",
      "   ---------------------------------------- 18/18 [spacy]\n",
      "\n",
      "Successfully installed blis-1.3.0 catalogue-2.0.10 cloudpathlib-0.21.1 confection-0.1.5 cymem-2.0.11 langcodes-3.5.0 language-data-1.3.0 marisa-trie-1.2.1 murmurhash-1.0.13 preshed-3.0.10 smart-open-7.1.0 spacy-3.8.7 spacy-legacy-3.0.12 spacy-loggers-1.0.5 srsly-2.5.1 thinc-8.3.6 wasabi-1.1.3 weasel-0.4.1\n"
     ]
    }
   ],
   "source": [
    "!pip install spacy"
   ]
  },
  {
   "cell_type": "code",
   "execution_count": 2,
   "id": "9b94e388-1eed-4cf3-997f-c29ccd62f62d",
   "metadata": {},
   "outputs": [],
   "source": [
    "import spacy"
   ]
  },
  {
   "cell_type": "markdown",
   "id": "c6cab935-3310-4fe4-9515-563725384127",
   "metadata": {},
   "source": [
    "# Here we load English Dictionary"
   ]
  },
  {
   "cell_type": "code",
   "execution_count": 3,
   "id": "eea1307d-b660-47ba-a519-0aef75ff66a0",
   "metadata": {},
   "outputs": [],
   "source": [
    "nlp=spacy.load('en_core_web_sm')"
   ]
  },
  {
   "cell_type": "code",
   "execution_count": 4,
   "id": "39ce6df0-4b61-482b-9366-08f744ad338c",
   "metadata": {},
   "outputs": [],
   "source": [
    "doc=nlp(u\"I will google about facebook\")"
   ]
  },
  {
   "cell_type": "code",
   "execution_count": 5,
   "id": "63de2773-056f-4319-a17f-553dfa4c69bd",
   "metadata": {},
   "outputs": [
    {
     "data": {
      "text/plain": [
       "'I will google about facebook'"
      ]
     },
     "execution_count": 5,
     "metadata": {},
     "output_type": "execute_result"
    }
   ],
   "source": [
    "doc.text"
   ]
  },
  {
   "cell_type": "code",
   "execution_count": 6,
   "id": "ff69f2f0-12c8-4182-bad7-827d80ef8faf",
   "metadata": {},
   "outputs": [
    {
     "data": {
      "text/plain": [
       "I"
      ]
     },
     "execution_count": 6,
     "metadata": {},
     "output_type": "execute_result"
    }
   ],
   "source": [
    "doc[0]"
   ]
  },
  {
   "cell_type": "code",
   "execution_count": 7,
   "id": "aa267081-c8b5-4f5f-9690-a07f7815c928",
   "metadata": {},
   "outputs": [
    {
     "data": {
      "text/plain": [
       "facebook"
      ]
     },
     "execution_count": 7,
     "metadata": {},
     "output_type": "execute_result"
    }
   ],
   "source": [
    "doc[-1]"
   ]
  },
  {
   "cell_type": "code",
   "execution_count": 8,
   "id": "91b16be1-4fb9-432a-ad45-c06e7019939d",
   "metadata": {},
   "outputs": [
    {
     "data": {
      "text/plain": [
       "'PRON'"
      ]
     },
     "execution_count": 8,
     "metadata": {},
     "output_type": "execute_result"
    }
   ],
   "source": [
    "doc[0].pos_                # We use .pos_ function to identify the word is noun,pronoun or verb,etc"
   ]
  },
  {
   "cell_type": "code",
   "execution_count": 9,
   "id": "3e1e7ca0-959f-4654-b796-f59f32b7809e",
   "metadata": {},
   "outputs": [
    {
     "data": {
      "text/plain": [
       "'MD'"
      ]
     },
     "execution_count": 9,
     "metadata": {},
     "output_type": "execute_result"
    }
   ],
   "source": [
    "doc[1].tag_               # This also identify the pos in fine way"
   ]
  },
  {
   "cell_type": "code",
   "execution_count": 10,
   "id": "bac59fac-9498-4517-8242-1284e47777d9",
   "metadata": {},
   "outputs": [
    {
     "data": {
      "text/plain": [
       "'verb, modal auxiliary'"
      ]
     },
     "execution_count": 10,
     "metadata": {},
     "output_type": "execute_result"
    }
   ],
   "source": [
    "spacy.explain('MD')          # Here we find full form of pos for.Example MD-modal auxiliary verb"
   ]
  },
  {
   "cell_type": "code",
   "execution_count": 11,
   "id": "7237e3f9-b484-4bd8-9e50-fc174590cf6e",
   "metadata": {},
   "outputs": [
    {
     "name": "stdout",
     "output_type": "stream",
     "text": [
      "I ------> PRON PRP pronoun, personal\n",
      "will ------> AUX MD verb, modal auxiliary\n",
      "google ------> VERB VB verb, base form\n",
      "about ------> ADP IN conjunction, subordinating or preposition\n",
      "facebook ------> PROPN NNP noun, proper singular\n"
     ]
    }
   ],
   "source": [
    "for word in doc:\n",
    "    print(word.text,\"------>\",word.pos_,word.tag_,spacy.explain(word.tag_))\n",
    "    "
   ]
  },
  {
   "cell_type": "code",
   "execution_count": 13,
   "id": "aae50be3-1233-4857-9f4d-2bccc54420bc",
   "metadata": {},
   "outputs": [
    {
     "name": "stdout",
     "output_type": "stream",
     "text": [
      "I ------> PRON PRP pronoun, personal\n",
      "left ------> VERB VBD verb, past tense\n",
      "the ------> DET DT determiner\n",
      "room ------> NOUN NN noun, singular or mass\n"
     ]
    }
   ],
   "source": [
    "doc2=nlp(u\"I left the room\")\n",
    "for word in doc2:\n",
    "    print(word.text,\"------>\",word.pos_,word.tag_,spacy.explain(word.tag_))"
   ]
  },
  {
   "cell_type": "code",
   "execution_count": 14,
   "id": "ebb06845-6c3c-40f8-83c2-1c5b47bbd03c",
   "metadata": {},
   "outputs": [
    {
     "name": "stdout",
     "output_type": "stream",
     "text": [
      "to ------> ADP IN conjunction, subordinating or preposition\n",
      "the ------> DET DT determiner\n",
      "left ------> NOUN NN noun, singular or mass\n",
      "of ------> ADP IN conjunction, subordinating or preposition\n",
      "the ------> DET DT determiner\n",
      "room ------> NOUN NN noun, singular or mass\n"
     ]
    }
   ],
   "source": [
    "doc3=nlp(u\"to the left of the room\")\n",
    "for word in doc2:\n",
    "    print(word.text,\"------>\",word.pos_,word.tag_,spacy.explain(word.tag_))"
   ]
  },
  {
   "cell_type": "code",
   "execution_count": 15,
   "id": "b20b2267-6e6e-4f07-8100-e458e0c17062",
   "metadata": {},
   "outputs": [
    {
     "name": "stdout",
     "output_type": "stream",
     "text": [
      "I ------> PRON PRP pronoun, personal\n",
      "read ------> VERB VBP verb, non-3rd person singular present\n",
      "books ------> NOUN NNS noun, plural\n",
      "on ------> ADP IN conjunction, subordinating or preposition\n",
      "history ------> NOUN NN noun, singular or mass\n"
     ]
    }
   ],
   "source": [
    "doc4=nlp(u\"I read books on history\")\n",
    "for word in doc3:\n",
    "    print(word.text,\"------>\",word.pos_,word.tag_,spacy.explain(word.tag_))"
   ]
  },
  {
   "cell_type": "code",
   "execution_count": 16,
   "id": "56d071ce-2678-49c9-81c9-c383dbf59965",
   "metadata": {},
   "outputs": [
    {
     "name": "stdout",
     "output_type": "stream",
     "text": [
      "I ------> PRON PRP pronoun, personal\n",
      "have ------> AUX VBP verb, non-3rd person singular present\n",
      "read ------> VERB VBN verb, past participle\n",
      "book ------> NOUN NN noun, singular or mass\n",
      "on ------> ADP IN conjunction, subordinating or preposition\n",
      "history ------> NOUN NN noun, singular or mass\n"
     ]
    }
   ],
   "source": [
    "doc5=nlp(u\"I have read book on history\")\n",
    "for word in doc5:\n",
    "    print(word.text,\"------>\",word.pos_,word.tag_,spacy.explain(word.tag_))"
   ]
  },
  {
   "cell_type": "code",
   "execution_count": 18,
   "id": "5769f83c-a7ce-4004-91b7-bfffd2e6560f",
   "metadata": {},
   "outputs": [],
   "source": [
    "doc6=nlp(u\"The quick brown fox jumped over the lazy dog\")"
   ]
  },
  {
   "cell_type": "code",
   "execution_count": 19,
   "id": "9dd6e0d8-333f-4e17-a417-fdd1e5161eb5",
   "metadata": {},
   "outputs": [],
   "source": [
    "from spacy import displacy   #Dislacy is used for display or visualization"
   ]
  },
  {
   "cell_type": "code",
   "execution_count": 20,
   "id": "fea4666a-9af4-4dd4-adc5-3ab6a8bf8c04",
   "metadata": {},
   "outputs": [
    {
     "data": {
      "text/html": [
       "<span class=\"tex2jax_ignore\"><svg xmlns=\"http://www.w3.org/2000/svg\" xmlns:xlink=\"http://www.w3.org/1999/xlink\" xml:lang=\"en\" id=\"97aee6c8ef544b5cbb2dd9e5c9deb9b7-0\" class=\"displacy\" width=\"1625\" height=\"399.5\" direction=\"ltr\" style=\"max-width: none; height: 399.5px; color: #000000; background: #ffffff; font-family: Arial; direction: ltr\">\n",
       "<text class=\"displacy-token\" fill=\"currentColor\" text-anchor=\"middle\" y=\"309.5\">\n",
       "    <tspan class=\"displacy-word\" fill=\"currentColor\" x=\"50\">The</tspan>\n",
       "    <tspan class=\"displacy-tag\" dy=\"2em\" fill=\"currentColor\" x=\"50\">DET</tspan>\n",
       "</text>\n",
       "\n",
       "<text class=\"displacy-token\" fill=\"currentColor\" text-anchor=\"middle\" y=\"309.5\">\n",
       "    <tspan class=\"displacy-word\" fill=\"currentColor\" x=\"225\">quick</tspan>\n",
       "    <tspan class=\"displacy-tag\" dy=\"2em\" fill=\"currentColor\" x=\"225\">ADJ</tspan>\n",
       "</text>\n",
       "\n",
       "<text class=\"displacy-token\" fill=\"currentColor\" text-anchor=\"middle\" y=\"309.5\">\n",
       "    <tspan class=\"displacy-word\" fill=\"currentColor\" x=\"400\">brown</tspan>\n",
       "    <tspan class=\"displacy-tag\" dy=\"2em\" fill=\"currentColor\" x=\"400\">ADJ</tspan>\n",
       "</text>\n",
       "\n",
       "<text class=\"displacy-token\" fill=\"currentColor\" text-anchor=\"middle\" y=\"309.5\">\n",
       "    <tspan class=\"displacy-word\" fill=\"currentColor\" x=\"575\">fox</tspan>\n",
       "    <tspan class=\"displacy-tag\" dy=\"2em\" fill=\"currentColor\" x=\"575\">NOUN</tspan>\n",
       "</text>\n",
       "\n",
       "<text class=\"displacy-token\" fill=\"currentColor\" text-anchor=\"middle\" y=\"309.5\">\n",
       "    <tspan class=\"displacy-word\" fill=\"currentColor\" x=\"750\">jumped</tspan>\n",
       "    <tspan class=\"displacy-tag\" dy=\"2em\" fill=\"currentColor\" x=\"750\">VERB</tspan>\n",
       "</text>\n",
       "\n",
       "<text class=\"displacy-token\" fill=\"currentColor\" text-anchor=\"middle\" y=\"309.5\">\n",
       "    <tspan class=\"displacy-word\" fill=\"currentColor\" x=\"925\">over</tspan>\n",
       "    <tspan class=\"displacy-tag\" dy=\"2em\" fill=\"currentColor\" x=\"925\">ADP</tspan>\n",
       "</text>\n",
       "\n",
       "<text class=\"displacy-token\" fill=\"currentColor\" text-anchor=\"middle\" y=\"309.5\">\n",
       "    <tspan class=\"displacy-word\" fill=\"currentColor\" x=\"1100\">the</tspan>\n",
       "    <tspan class=\"displacy-tag\" dy=\"2em\" fill=\"currentColor\" x=\"1100\">DET</tspan>\n",
       "</text>\n",
       "\n",
       "<text class=\"displacy-token\" fill=\"currentColor\" text-anchor=\"middle\" y=\"309.5\">\n",
       "    <tspan class=\"displacy-word\" fill=\"currentColor\" x=\"1275\">lazy</tspan>\n",
       "    <tspan class=\"displacy-tag\" dy=\"2em\" fill=\"currentColor\" x=\"1275\">ADJ</tspan>\n",
       "</text>\n",
       "\n",
       "<text class=\"displacy-token\" fill=\"currentColor\" text-anchor=\"middle\" y=\"309.5\">\n",
       "    <tspan class=\"displacy-word\" fill=\"currentColor\" x=\"1450\">dog</tspan>\n",
       "    <tspan class=\"displacy-tag\" dy=\"2em\" fill=\"currentColor\" x=\"1450\">NOUN</tspan>\n",
       "</text>\n",
       "\n",
       "<g class=\"displacy-arrow\">\n",
       "    <path class=\"displacy-arc\" id=\"arrow-97aee6c8ef544b5cbb2dd9e5c9deb9b7-0-0\" stroke-width=\"2px\" d=\"M70,264.5 C70,2.0 575.0,2.0 575.0,264.5\" fill=\"none\" stroke=\"currentColor\"/>\n",
       "    <text dy=\"1.25em\" style=\"font-size: 0.8em; letter-spacing: 1px\">\n",
       "        <textPath xlink:href=\"#arrow-97aee6c8ef544b5cbb2dd9e5c9deb9b7-0-0\" class=\"displacy-label\" startOffset=\"50%\" side=\"left\" fill=\"currentColor\" text-anchor=\"middle\">det</textPath>\n",
       "    </text>\n",
       "    <path class=\"displacy-arrowhead\" d=\"M70,266.5 L62,254.5 78,254.5\" fill=\"currentColor\"/>\n",
       "</g>\n",
       "\n",
       "<g class=\"displacy-arrow\">\n",
       "    <path class=\"displacy-arc\" id=\"arrow-97aee6c8ef544b5cbb2dd9e5c9deb9b7-0-1\" stroke-width=\"2px\" d=\"M245,264.5 C245,89.5 570.0,89.5 570.0,264.5\" fill=\"none\" stroke=\"currentColor\"/>\n",
       "    <text dy=\"1.25em\" style=\"font-size: 0.8em; letter-spacing: 1px\">\n",
       "        <textPath xlink:href=\"#arrow-97aee6c8ef544b5cbb2dd9e5c9deb9b7-0-1\" class=\"displacy-label\" startOffset=\"50%\" side=\"left\" fill=\"currentColor\" text-anchor=\"middle\">amod</textPath>\n",
       "    </text>\n",
       "    <path class=\"displacy-arrowhead\" d=\"M245,266.5 L237,254.5 253,254.5\" fill=\"currentColor\"/>\n",
       "</g>\n",
       "\n",
       "<g class=\"displacy-arrow\">\n",
       "    <path class=\"displacy-arc\" id=\"arrow-97aee6c8ef544b5cbb2dd9e5c9deb9b7-0-2\" stroke-width=\"2px\" d=\"M420,264.5 C420,177.0 565.0,177.0 565.0,264.5\" fill=\"none\" stroke=\"currentColor\"/>\n",
       "    <text dy=\"1.25em\" style=\"font-size: 0.8em; letter-spacing: 1px\">\n",
       "        <textPath xlink:href=\"#arrow-97aee6c8ef544b5cbb2dd9e5c9deb9b7-0-2\" class=\"displacy-label\" startOffset=\"50%\" side=\"left\" fill=\"currentColor\" text-anchor=\"middle\">amod</textPath>\n",
       "    </text>\n",
       "    <path class=\"displacy-arrowhead\" d=\"M420,266.5 L412,254.5 428,254.5\" fill=\"currentColor\"/>\n",
       "</g>\n",
       "\n",
       "<g class=\"displacy-arrow\">\n",
       "    <path class=\"displacy-arc\" id=\"arrow-97aee6c8ef544b5cbb2dd9e5c9deb9b7-0-3\" stroke-width=\"2px\" d=\"M595,264.5 C595,177.0 740.0,177.0 740.0,264.5\" fill=\"none\" stroke=\"currentColor\"/>\n",
       "    <text dy=\"1.25em\" style=\"font-size: 0.8em; letter-spacing: 1px\">\n",
       "        <textPath xlink:href=\"#arrow-97aee6c8ef544b5cbb2dd9e5c9deb9b7-0-3\" class=\"displacy-label\" startOffset=\"50%\" side=\"left\" fill=\"currentColor\" text-anchor=\"middle\">nsubj</textPath>\n",
       "    </text>\n",
       "    <path class=\"displacy-arrowhead\" d=\"M595,266.5 L587,254.5 603,254.5\" fill=\"currentColor\"/>\n",
       "</g>\n",
       "\n",
       "<g class=\"displacy-arrow\">\n",
       "    <path class=\"displacy-arc\" id=\"arrow-97aee6c8ef544b5cbb2dd9e5c9deb9b7-0-4\" stroke-width=\"2px\" d=\"M770,264.5 C770,177.0 915.0,177.0 915.0,264.5\" fill=\"none\" stroke=\"currentColor\"/>\n",
       "    <text dy=\"1.25em\" style=\"font-size: 0.8em; letter-spacing: 1px\">\n",
       "        <textPath xlink:href=\"#arrow-97aee6c8ef544b5cbb2dd9e5c9deb9b7-0-4\" class=\"displacy-label\" startOffset=\"50%\" side=\"left\" fill=\"currentColor\" text-anchor=\"middle\">prep</textPath>\n",
       "    </text>\n",
       "    <path class=\"displacy-arrowhead\" d=\"M915.0,266.5 L923.0,254.5 907.0,254.5\" fill=\"currentColor\"/>\n",
       "</g>\n",
       "\n",
       "<g class=\"displacy-arrow\">\n",
       "    <path class=\"displacy-arc\" id=\"arrow-97aee6c8ef544b5cbb2dd9e5c9deb9b7-0-5\" stroke-width=\"2px\" d=\"M1120,264.5 C1120,89.5 1445.0,89.5 1445.0,264.5\" fill=\"none\" stroke=\"currentColor\"/>\n",
       "    <text dy=\"1.25em\" style=\"font-size: 0.8em; letter-spacing: 1px\">\n",
       "        <textPath xlink:href=\"#arrow-97aee6c8ef544b5cbb2dd9e5c9deb9b7-0-5\" class=\"displacy-label\" startOffset=\"50%\" side=\"left\" fill=\"currentColor\" text-anchor=\"middle\">det</textPath>\n",
       "    </text>\n",
       "    <path class=\"displacy-arrowhead\" d=\"M1120,266.5 L1112,254.5 1128,254.5\" fill=\"currentColor\"/>\n",
       "</g>\n",
       "\n",
       "<g class=\"displacy-arrow\">\n",
       "    <path class=\"displacy-arc\" id=\"arrow-97aee6c8ef544b5cbb2dd9e5c9deb9b7-0-6\" stroke-width=\"2px\" d=\"M1295,264.5 C1295,177.0 1440.0,177.0 1440.0,264.5\" fill=\"none\" stroke=\"currentColor\"/>\n",
       "    <text dy=\"1.25em\" style=\"font-size: 0.8em; letter-spacing: 1px\">\n",
       "        <textPath xlink:href=\"#arrow-97aee6c8ef544b5cbb2dd9e5c9deb9b7-0-6\" class=\"displacy-label\" startOffset=\"50%\" side=\"left\" fill=\"currentColor\" text-anchor=\"middle\">amod</textPath>\n",
       "    </text>\n",
       "    <path class=\"displacy-arrowhead\" d=\"M1295,266.5 L1287,254.5 1303,254.5\" fill=\"currentColor\"/>\n",
       "</g>\n",
       "\n",
       "<g class=\"displacy-arrow\">\n",
       "    <path class=\"displacy-arc\" id=\"arrow-97aee6c8ef544b5cbb2dd9e5c9deb9b7-0-7\" stroke-width=\"2px\" d=\"M945,264.5 C945,2.0 1450.0,2.0 1450.0,264.5\" fill=\"none\" stroke=\"currentColor\"/>\n",
       "    <text dy=\"1.25em\" style=\"font-size: 0.8em; letter-spacing: 1px\">\n",
       "        <textPath xlink:href=\"#arrow-97aee6c8ef544b5cbb2dd9e5c9deb9b7-0-7\" class=\"displacy-label\" startOffset=\"50%\" side=\"left\" fill=\"currentColor\" text-anchor=\"middle\">pobj</textPath>\n",
       "    </text>\n",
       "    <path class=\"displacy-arrowhead\" d=\"M1450.0,266.5 L1458.0,254.5 1442.0,254.5\" fill=\"currentColor\"/>\n",
       "</g>\n",
       "</svg></span>"
      ],
      "text/plain": [
       "<IPython.core.display.HTML object>"
      ]
     },
     "metadata": {},
     "output_type": "display_data"
    }
   ],
   "source": [
    "displacy.render(doc6,style='dep',jupyter=True)"
   ]
  },
  {
   "cell_type": "code",
   "execution_count": 21,
   "id": "a2a00e39-8012-4ae0-8f6d-6abf9aef9f3a",
   "metadata": {},
   "outputs": [],
   "source": [
    "options={'distance':80,\n",
    "         'compact':True,\n",
    "         'color':'#fff',\n",
    "         'bg':'#00a65a'\n",
    "        }"
   ]
  },
  {
   "cell_type": "code",
   "execution_count": 23,
   "id": "c3e24b76-ef07-4e87-b0e2-fba4278bc903",
   "metadata": {},
   "outputs": [
    {
     "data": {
      "text/html": [
       "<span class=\"tex2jax_ignore\"><svg xmlns=\"http://www.w3.org/2000/svg\" xmlns:xlink=\"http://www.w3.org/1999/xlink\" xml:lang=\"en\" id=\"8b468a0b295b44ff802473c21d4f2d73-0\" class=\"displacy\" width=\"770\" height=\"257.0\" direction=\"ltr\" style=\"max-width: none; height: 257.0px; color: #fff; background: #00a65a; font-family: Arial; direction: ltr\">\n",
       "<text class=\"displacy-token\" fill=\"currentColor\" text-anchor=\"middle\" y=\"167.0\">\n",
       "    <tspan class=\"displacy-word\" fill=\"currentColor\" x=\"50\">The</tspan>\n",
       "    <tspan class=\"displacy-tag\" dy=\"2em\" fill=\"currentColor\" x=\"50\">DET</tspan>\n",
       "</text>\n",
       "\n",
       "<text class=\"displacy-token\" fill=\"currentColor\" text-anchor=\"middle\" y=\"167.0\">\n",
       "    <tspan class=\"displacy-word\" fill=\"currentColor\" x=\"130\">quick</tspan>\n",
       "    <tspan class=\"displacy-tag\" dy=\"2em\" fill=\"currentColor\" x=\"130\">ADJ</tspan>\n",
       "</text>\n",
       "\n",
       "<text class=\"displacy-token\" fill=\"currentColor\" text-anchor=\"middle\" y=\"167.0\">\n",
       "    <tspan class=\"displacy-word\" fill=\"currentColor\" x=\"210\">brown</tspan>\n",
       "    <tspan class=\"displacy-tag\" dy=\"2em\" fill=\"currentColor\" x=\"210\">ADJ</tspan>\n",
       "</text>\n",
       "\n",
       "<text class=\"displacy-token\" fill=\"currentColor\" text-anchor=\"middle\" y=\"167.0\">\n",
       "    <tspan class=\"displacy-word\" fill=\"currentColor\" x=\"290\">fox</tspan>\n",
       "    <tspan class=\"displacy-tag\" dy=\"2em\" fill=\"currentColor\" x=\"290\">NOUN</tspan>\n",
       "</text>\n",
       "\n",
       "<text class=\"displacy-token\" fill=\"currentColor\" text-anchor=\"middle\" y=\"167.0\">\n",
       "    <tspan class=\"displacy-word\" fill=\"currentColor\" x=\"370\">jumped</tspan>\n",
       "    <tspan class=\"displacy-tag\" dy=\"2em\" fill=\"currentColor\" x=\"370\">VERB</tspan>\n",
       "</text>\n",
       "\n",
       "<text class=\"displacy-token\" fill=\"currentColor\" text-anchor=\"middle\" y=\"167.0\">\n",
       "    <tspan class=\"displacy-word\" fill=\"currentColor\" x=\"450\">over</tspan>\n",
       "    <tspan class=\"displacy-tag\" dy=\"2em\" fill=\"currentColor\" x=\"450\">ADP</tspan>\n",
       "</text>\n",
       "\n",
       "<text class=\"displacy-token\" fill=\"currentColor\" text-anchor=\"middle\" y=\"167.0\">\n",
       "    <tspan class=\"displacy-word\" fill=\"currentColor\" x=\"530\">the</tspan>\n",
       "    <tspan class=\"displacy-tag\" dy=\"2em\" fill=\"currentColor\" x=\"530\">DET</tspan>\n",
       "</text>\n",
       "\n",
       "<text class=\"displacy-token\" fill=\"currentColor\" text-anchor=\"middle\" y=\"167.0\">\n",
       "    <tspan class=\"displacy-word\" fill=\"currentColor\" x=\"610\">lazy</tspan>\n",
       "    <tspan class=\"displacy-tag\" dy=\"2em\" fill=\"currentColor\" x=\"610\">ADJ</tspan>\n",
       "</text>\n",
       "\n",
       "<text class=\"displacy-token\" fill=\"currentColor\" text-anchor=\"middle\" y=\"167.0\">\n",
       "    <tspan class=\"displacy-word\" fill=\"currentColor\" x=\"690\">dog</tspan>\n",
       "    <tspan class=\"displacy-tag\" dy=\"2em\" fill=\"currentColor\" x=\"690\">NOUN</tspan>\n",
       "</text>\n",
       "\n",
       "<g class=\"displacy-arrow\">\n",
       "    <path class=\"displacy-arc\" id=\"arrow-8b468a0b295b44ff802473c21d4f2d73-0-0\" stroke-width=\"2px\" d=\"M62,122.0 62,82.0 290.0,82.0 290.0,122.0\" fill=\"none\" stroke=\"currentColor\"/>\n",
       "    <text dy=\"1.25em\" style=\"font-size: 0.8em; letter-spacing: 1px\">\n",
       "        <textPath xlink:href=\"#arrow-8b468a0b295b44ff802473c21d4f2d73-0-0\" class=\"displacy-label\" startOffset=\"50%\" side=\"left\" fill=\"currentColor\" text-anchor=\"middle\">det</textPath>\n",
       "    </text>\n",
       "    <path class=\"displacy-arrowhead\" d=\"M62,124.0 L58,116.0 66,116.0\" fill=\"currentColor\"/>\n",
       "</g>\n",
       "\n",
       "<g class=\"displacy-arrow\">\n",
       "    <path class=\"displacy-arc\" id=\"arrow-8b468a0b295b44ff802473c21d4f2d73-0-1\" stroke-width=\"2px\" d=\"M142,122.0 142,95.33333333333333 287.0,95.33333333333333 287.0,122.0\" fill=\"none\" stroke=\"currentColor\"/>\n",
       "    <text dy=\"1.25em\" style=\"font-size: 0.8em; letter-spacing: 1px\">\n",
       "        <textPath xlink:href=\"#arrow-8b468a0b295b44ff802473c21d4f2d73-0-1\" class=\"displacy-label\" startOffset=\"50%\" side=\"left\" fill=\"currentColor\" text-anchor=\"middle\">amod</textPath>\n",
       "    </text>\n",
       "    <path class=\"displacy-arrowhead\" d=\"M142,124.0 L138,116.0 146,116.0\" fill=\"currentColor\"/>\n",
       "</g>\n",
       "\n",
       "<g class=\"displacy-arrow\">\n",
       "    <path class=\"displacy-arc\" id=\"arrow-8b468a0b295b44ff802473c21d4f2d73-0-2\" stroke-width=\"2px\" d=\"M222,122.0 222,108.66666666666667 284.0,108.66666666666667 284.0,122.0\" fill=\"none\" stroke=\"currentColor\"/>\n",
       "    <text dy=\"1.25em\" style=\"font-size: 0.8em; letter-spacing: 1px\">\n",
       "        <textPath xlink:href=\"#arrow-8b468a0b295b44ff802473c21d4f2d73-0-2\" class=\"displacy-label\" startOffset=\"50%\" side=\"left\" fill=\"currentColor\" text-anchor=\"middle\">amod</textPath>\n",
       "    </text>\n",
       "    <path class=\"displacy-arrowhead\" d=\"M222,124.0 L218,116.0 226,116.0\" fill=\"currentColor\"/>\n",
       "</g>\n",
       "\n",
       "<g class=\"displacy-arrow\">\n",
       "    <path class=\"displacy-arc\" id=\"arrow-8b468a0b295b44ff802473c21d4f2d73-0-3\" stroke-width=\"2px\" d=\"M302,122.0 302,108.66666666666667 364.0,108.66666666666667 364.0,122.0\" fill=\"none\" stroke=\"currentColor\"/>\n",
       "    <text dy=\"1.25em\" style=\"font-size: 0.8em; letter-spacing: 1px\">\n",
       "        <textPath xlink:href=\"#arrow-8b468a0b295b44ff802473c21d4f2d73-0-3\" class=\"displacy-label\" startOffset=\"50%\" side=\"left\" fill=\"currentColor\" text-anchor=\"middle\">nsubj</textPath>\n",
       "    </text>\n",
       "    <path class=\"displacy-arrowhead\" d=\"M302,124.0 L298,116.0 306,116.0\" fill=\"currentColor\"/>\n",
       "</g>\n",
       "\n",
       "<g class=\"displacy-arrow\">\n",
       "    <path class=\"displacy-arc\" id=\"arrow-8b468a0b295b44ff802473c21d4f2d73-0-4\" stroke-width=\"2px\" d=\"M382,122.0 382,108.66666666666667 444.0,108.66666666666667 444.0,122.0\" fill=\"none\" stroke=\"currentColor\"/>\n",
       "    <text dy=\"1.25em\" style=\"font-size: 0.8em; letter-spacing: 1px\">\n",
       "        <textPath xlink:href=\"#arrow-8b468a0b295b44ff802473c21d4f2d73-0-4\" class=\"displacy-label\" startOffset=\"50%\" side=\"left\" fill=\"currentColor\" text-anchor=\"middle\">prep</textPath>\n",
       "    </text>\n",
       "    <path class=\"displacy-arrowhead\" d=\"M444.0,124.0 L448.0,116.0 440.0,116.0\" fill=\"currentColor\"/>\n",
       "</g>\n",
       "\n",
       "<g class=\"displacy-arrow\">\n",
       "    <path class=\"displacy-arc\" id=\"arrow-8b468a0b295b44ff802473c21d4f2d73-0-5\" stroke-width=\"2px\" d=\"M542,122.0 542,95.33333333333333 687.0,95.33333333333333 687.0,122.0\" fill=\"none\" stroke=\"currentColor\"/>\n",
       "    <text dy=\"1.25em\" style=\"font-size: 0.8em; letter-spacing: 1px\">\n",
       "        <textPath xlink:href=\"#arrow-8b468a0b295b44ff802473c21d4f2d73-0-5\" class=\"displacy-label\" startOffset=\"50%\" side=\"left\" fill=\"currentColor\" text-anchor=\"middle\">det</textPath>\n",
       "    </text>\n",
       "    <path class=\"displacy-arrowhead\" d=\"M542,124.0 L538,116.0 546,116.0\" fill=\"currentColor\"/>\n",
       "</g>\n",
       "\n",
       "<g class=\"displacy-arrow\">\n",
       "    <path class=\"displacy-arc\" id=\"arrow-8b468a0b295b44ff802473c21d4f2d73-0-6\" stroke-width=\"2px\" d=\"M622,122.0 622,108.66666666666667 684.0,108.66666666666667 684.0,122.0\" fill=\"none\" stroke=\"currentColor\"/>\n",
       "    <text dy=\"1.25em\" style=\"font-size: 0.8em; letter-spacing: 1px\">\n",
       "        <textPath xlink:href=\"#arrow-8b468a0b295b44ff802473c21d4f2d73-0-6\" class=\"displacy-label\" startOffset=\"50%\" side=\"left\" fill=\"currentColor\" text-anchor=\"middle\">amod</textPath>\n",
       "    </text>\n",
       "    <path class=\"displacy-arrowhead\" d=\"M622,124.0 L618,116.0 626,116.0\" fill=\"currentColor\"/>\n",
       "</g>\n",
       "\n",
       "<g class=\"displacy-arrow\">\n",
       "    <path class=\"displacy-arc\" id=\"arrow-8b468a0b295b44ff802473c21d4f2d73-0-7\" stroke-width=\"2px\" d=\"M462,122.0 462,82.0 690.0,82.0 690.0,122.0\" fill=\"none\" stroke=\"currentColor\"/>\n",
       "    <text dy=\"1.25em\" style=\"font-size: 0.8em; letter-spacing: 1px\">\n",
       "        <textPath xlink:href=\"#arrow-8b468a0b295b44ff802473c21d4f2d73-0-7\" class=\"displacy-label\" startOffset=\"50%\" side=\"left\" fill=\"currentColor\" text-anchor=\"middle\">pobj</textPath>\n",
       "    </text>\n",
       "    <path class=\"displacy-arrowhead\" d=\"M690.0,124.0 L694.0,116.0 686.0,116.0\" fill=\"currentColor\"/>\n",
       "</g>\n",
       "</svg></span>"
      ],
      "text/plain": [
       "<IPython.core.display.HTML object>"
      ]
     },
     "metadata": {},
     "output_type": "display_data"
    }
   ],
   "source": [
    "displacy.render(doc6,style='dep',jupyter=True,options=options)"
   ]
  },
  {
   "cell_type": "code",
   "execution_count": null,
   "id": "4c8b2694-e1fc-4b3d-b6e2-036e0bd5c5d1",
   "metadata": {},
   "outputs": [],
   "source": []
  }
 ],
 "metadata": {
  "kernelspec": {
   "display_name": "Python [conda env:base] *",
   "language": "python",
   "name": "conda-base-py"
  },
  "language_info": {
   "codemirror_mode": {
    "name": "ipython",
    "version": 3
   },
   "file_extension": ".py",
   "mimetype": "text/x-python",
   "name": "python",
   "nbconvert_exporter": "python",
   "pygments_lexer": "ipython3",
   "version": "3.13.5"
  }
 },
 "nbformat": 4,
 "nbformat_minor": 5
}
